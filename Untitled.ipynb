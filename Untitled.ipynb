{
 "cells": [
  {
   "cell_type": "code",
   "execution_count": 16,
   "metadata": {},
   "outputs": [],
   "source": [
    "import numpy as np\n",
    "import cv2"
   ]
  },
  {
   "cell_type": "code",
   "execution_count": 17,
   "metadata": {},
   "outputs": [],
   "source": [
    "plate = cv2.imread(\"plate.jpg\",0)\n",
    "cv2.imshow(\"plate image\",plate)\n",
    "cv2.waitKey(0)\n",
    "cv2.destroyAllWindows()"
   ]
  },
  {
   "cell_type": "code",
   "execution_count": 18,
   "metadata": {},
   "outputs": [
    {
     "name": "stdout",
     "output_type": "stream",
     "text": [
      "[[255 255 255 ... 255 255 255]\n",
      " [255 255 255 ... 255 255   0]\n",
      " [255 255 255 ... 255 255   0]\n",
      " ...\n",
      " [255 255 255 ... 255 255 255]\n",
      " [255 255 255 ... 255 255 255]\n",
      " [255 255 255 ... 255 255 255]]\n"
     ]
    }
   ],
   "source": [
    "a,thresh= cv2.threshold(plate, 57,255,cv2.THRESH_BINARY)\n",
    "cv2.imshow(\"BINARISED PLATE\", thresh)\n",
    "cv2.waitKey(0)\n",
    "print(thresh)\n",
    "cv2.destroyAllWindows()"
   ]
  },
  {
   "cell_type": "code",
   "execution_count": 19,
   "metadata": {},
   "outputs": [],
   "source": [
    "kernel = np.ones((5,5), np.uint8)\n",
    "erode = cv2.erode(thresh, kernel,iterations=2)\n",
    "kernel = np.ones((3,3),np.float32)\n",
    "blurred= cv2.filter2D(erode,-1,kernel )\n",
    "a,thresh= cv2.threshold(plate, 50,255,cv2.THRESH_BINARY)\n",
    "#final = cv2.dilate(thresh, kernel,iterations=2)\n",
    "cv2.imshow(\"final\",thresh)\n",
    "cv2.waitKey(0)\n",
    "cv2.destroyAllWindows()"
   ]
  },
  {
   "cell_type": "code",
   "execution_count": 20,
   "metadata": {},
   "outputs": [],
   "source": [
    "\n",
    "canny_plate=cv2.Canny(thresh,20,220)\n",
    "cv2.imshow(\"preprocessed plate\",thresh)\n",
    "m2,contours,hirarchy = cv2.findContours( thresh,cv2.RETR_LIST, cv2.CHAIN_APPROX_NONE)\n",
    "i=0\n",
    "backup=plate\n",
    "for c in contours:        \n",
    "    x,y,w,h=cv2.boundingRect(c)\n",
    "    cv2.rectangle(thresh,(x,y),(x+w,y+h),(60,255,40),1)\n",
    "    file_name=\"OCRFILE/char\"+str(i)+\".jpg\"\n",
    "    char_image=thresh[y:y+h,x:x+w]\n",
    "    canny_img=cv2.Canny(char_image,30,200)\n",
    "    im2,c,hi = cv2.findContours(canny_img, cv2.RETR_LIST, cv2.CHAIN_APPROX_NONE)\n",
    "    if(len(c)>=1 ):\n",
    "        cv2.imwrite(file_name,char_image)\n",
    "        i+=1\n",
    "cv2.imshow(\"character segmented plate\",thresh)\n",
    "cv2.waitKey(0)\n",
    "cv2.destroyAllWindows()\n",
    "cv2.waitKey(0)\n",
    "cv2.destroyAllWindows()"
   ]
  },
  {
   "cell_type": "code",
   "execution_count": null,
   "metadata": {},
   "outputs": [],
   "source": []
  }
 ],
 "metadata": {
  "kernelspec": {
   "display_name": "Python 3",
   "language": "python",
   "name": "python3"
  },
  "language_info": {
   "codemirror_mode": {
    "name": "ipython",
    "version": 3
   },
   "file_extension": ".py",
   "mimetype": "text/x-python",
   "name": "python",
   "nbconvert_exporter": "python",
   "pygments_lexer": "ipython3",
   "version": "3.7.0"
  }
 },
 "nbformat": 4,
 "nbformat_minor": 2
}
